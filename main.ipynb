{
 "cells": [
  {
   "cell_type": "markdown",
   "source": [
    "# Data Dive 5\n",
    "## Marketing Work for Food Delivery Service\n",
    "\n",
    "### Kennidee Jones, Hayley Stanley, Bunker Brock, Nicholas Sartino"
   ],
   "metadata": {
    "collapsed": false
   },
   "id": "70e41540e4549ef0"
  },
  {
   "cell_type": "code",
   "execution_count": null,
   "outputs": [],
   "source": [
    "# Modules\n",
    "\n",
    "#!pip install missingno\n",
    "#!pip install plotly-orca\n",
    "#!pip install -U kaleido\n",
    "#!pip install geopandas"
   ],
   "metadata": {
    "collapsed": false
   },
   "id": "735a4cd98e1d5ff5"
  },
  {
   "cell_type": "code",
   "execution_count": null,
   "outputs": [],
   "source": [
    "# Imports\n",
    "\n",
    "import matplotlib.pyplot as plt\n",
    "plt.style.use('fivethirtyeight')\n",
    "%matplotlib inline\n",
    "import warnings\n",
    "warnings.filterwarnings(\"ignore\")\n",
    "import missingno as msno\n",
    "import pandas as pd\n",
    "import matplotlib.pyplot as plt\n",
    "import seaborn as sns\n",
    "import numpy as np\n",
    "import geopandas as gpd\n",
    "from shapely.geometry import Point\n",
    "import json"
   ],
   "metadata": {
    "collapsed": false
   },
   "id": "baae9135f1b7db87"
  },
  {
   "cell_type": "code",
   "execution_count": null,
   "outputs": [],
   "source": [
    "# Read data from multiple sources and concatenate data frames\n",
    "df_test = (pd.read_csv('test.csv', header = 0))\n",
    "df_train = (pd.read_csv('train.csv',header = 0))\n",
    "\n",
    "df = pd.concat([df_test,df_train],ignore_index=True)"
   ],
   "metadata": {
    "collapsed": false
   },
   "id": "7892f4a84b9359f"
  },
  {
   "cell_type": "code",
   "execution_count": null,
   "outputs": [],
   "source": [
    "df.info()"
   ],
   "metadata": {
    "collapsed": false
   },
   "id": "cdfe224c51cc5a2"
  },
  {
   "cell_type": "code",
   "execution_count": null,
   "outputs": [],
   "source": [
    "df.head()"
   ],
   "metadata": {
    "collapsed": false
   },
   "id": "4720d63275e41b69"
  },
  {
   "cell_type": "code",
   "execution_count": null,
   "outputs": [],
   "source": [
    "df.describe()"
   ],
   "metadata": {
    "collapsed": false
   },
   "id": "350f570588e61d39"
  },
  {
   "cell_type": "code",
   "execution_count": null,
   "outputs": [],
   "source": [
    "# Get the count of NaN values for each column\n",
    "na_counts = df.isna().sum()\n",
    "\n",
    "print(na_counts)"
   ],
   "metadata": {
    "collapsed": false
   },
   "id": "54fbd79236b110f8"
  },
  {
   "cell_type": "code",
   "execution_count": null,
   "outputs": [],
   "source": [
    "# Visualize missing values\n",
    "msno.matrix(df)"
   ],
   "metadata": {
    "collapsed": false
   },
   "id": "2ae725b10749dcd"
  },
  {
   "cell_type": "code",
   "execution_count": null,
   "outputs": [],
   "source": [
    "# Specify the columns of interest\n",
    "columns_of_interest = ['Restaurant_latitude', 'Restaurant_longitude']\n",
    "\n",
    "# Create an empty DataFrame to store rows with 0 values\n",
    "zero_values_df = pd.DataFrame()\n",
    "\n",
    "# Loop through columns and rows\n",
    "for column in columns_of_interest:\n",
    "    # Use boolean indexing to select rows where the value is 0\n",
    "    zero_rows = df[df[column] == 0]\n",
    "    \n",
    "    # Concatenate the selected rows to the new DataFrame\n",
    "    zero_values_df = pd.concat([zero_values_df, zero_rows], ignore_index=True)\n",
    "\n",
    "# Display the new DataFrame\n",
    "zero_values_df.head()"
   ],
   "metadata": {
    "collapsed": false
   },
   "id": "f57a400e71149ef1"
  },
  {
   "cell_type": "code",
   "execution_count": null,
   "outputs": [],
   "source": [
    "# Drop these rows from the main dataframe because they make no sense\n",
    "\n",
    "# Use boolean indexing to select rows where any of the specified columns have a value of 0\n",
    "rows_to_drop = df[(df[columns_of_interest] == 0).any(axis=1)]\n",
    "\n",
    "# Drop the selected rows from the original DataFrame\n",
    "df = df.drop(rows_to_drop.index)"
   ],
   "metadata": {
    "collapsed": false
   },
   "id": "45f0d17f1d0cea7c"
  },
  {
   "cell_type": "code",
   "execution_count": null,
   "outputs": [],
   "source": [
    "# Clean up negative lat/long values\n",
    "negative_lat_long_columns = ['Delivery_location_latitude', 'Delivery_location_longitude','Restaurant_latitude', 'Restaurant_longitude']\n",
    "\n",
    "# Convert negative values to positive equivalents\n",
    "df[negative_lat_long_columns] = df[negative_lat_long_columns].abs()"
   ],
   "metadata": {
    "collapsed": false
   },
   "id": "70cb86cc7a96896a"
  },
  {
   "cell_type": "code",
   "execution_count": null,
   "outputs": [],
   "source": [
    "# Create a feature for rows with no delivery lat/long and call it \"Ate in Store\"\n",
    "\n",
    "# Specify the columns of interest\n",
    "in_store_columns = ['Delivery_location_latitude', 'Delivery_location_longitude']\n",
    "\n",
    "# Create a boolean mask for rows where both 'Delivery_location_latitude' and 'Delivery_location_longitude' are equal to 0\n",
    "in_store_mask = (df[in_store_columns] < 70).all(axis=1)\n",
    "\n",
    "# Create the 'In Store' column and set values based on the conditions\n",
    "df['In Store'] = 'Delivery'  # Default value for all rows\n",
    "df.loc[in_store_mask, 'In Store'] = 'In Store'"
   ],
   "metadata": {
    "collapsed": false
   },
   "id": "f808cc1a6c3d7df5"
  },
  {
   "cell_type": "code",
   "execution_count": null,
   "outputs": [],
   "source": [
    "# Using pd.isna()\n",
    "nan_rows = df[pd.isna(df['Time_taken(min)'])]\n",
    "\n",
    "nan_rows.head()"
   ],
   "metadata": {
    "collapsed": false
   },
   "id": "6f94cea3c2c05874"
  },
  {
   "cell_type": "code",
   "execution_count": null,
   "outputs": [],
   "source": [
    "# Using pd.notna()\n",
    "not_nan_rows = df[pd.notna(df['Time_taken(min)'])]\n",
    "\n",
    "not_nan_rows.head()"
   ],
   "metadata": {
    "collapsed": false
   },
   "id": "9524b94d4015879c"
  },
  {
   "cell_type": "code",
   "execution_count": null,
   "outputs": [],
   "source": [
    "df.head(100)"
   ],
   "metadata": {
    "collapsed": false
   },
   "id": "fcbc3e3244f3ceb2"
  },
  {
   "cell_type": "code",
   "execution_count": null,
   "outputs": [],
   "source": [
    "# Clean up Weather Values\n",
    "column_to_modify = 'Weatherconditions'\n",
    "\n",
    "# Remove the string 'condition' from each value in the specified column\n",
    "df[column_to_modify] = df[column_to_modify].str.replace('conditions ', '', regex=False)\n"
   ],
   "metadata": {
    "collapsed": false
   },
   "id": "5519d763872e41a8"
  },
  {
   "cell_type": "code",
   "execution_count": null,
   "outputs": [],
   "source": [
    "df.head()"
   ],
   "metadata": {
    "collapsed": false
   },
   "id": "f3be489b4ee7cc4a"
  },
  {
   "cell_type": "code",
   "execution_count": null,
   "outputs": [],
   "source": [
    "# Create a GeoDataFrame from the DataFrame by creating Point geometries\n",
    "geometry = [Point(xy) for xy in zip(df['Delivery_location_longitude'], df['Delivery_location_latitude'])]\n",
    "geo_df = gpd.GeoDataFrame(df, geometry=geometry, crs='EPSG:4326')\n",
    "\n",
    "# Plot the GeoDataFrame\n",
    "world = gpd.read_file(gpd.datasets.get_path('naturalearth_lowres'))\n",
    "ax = world.plot(figsize=(10, 6), color='white', edgecolor='black')\n",
    "\n",
    "# Plot the GeoDataFrame on top\n",
    "geo_df.plot(ax=ax, color='red', marker='o', markersize=50)\n",
    "\n",
    "# Display the plot\n",
    "plt.show()"
   ],
   "metadata": {
    "collapsed": false
   },
   "id": "8a4d4379efd24990"
  },
  {
   "cell_type": "code",
   "execution_count": null,
   "outputs": [],
   "source": [
    "# Count the occurrences of each category in the 'In Store' column\n",
    "traffic_counts = df['Type_of_vehicle'].value_counts()\n",
    "\n",
    "# Create a bar chart\n",
    "plt.bar(traffic_counts.index, traffic_counts.values, color=['blue', 'green'])\n",
    "\n",
    "# Add labels and title\n",
    "plt.xlabel('Delivery Type')\n",
    "plt.ylabel('Count')\n",
    "plt.title('Count of Deliveries by Vehicle Type')\n",
    "\n",
    "# Show the plot\n",
    "plt.show()"
   ],
   "metadata": {
    "collapsed": false
   },
   "id": "aeebf53504224e82"
  },
  {
   "cell_type": "markdown",
   "source": [],
   "metadata": {
    "collapsed": false
   },
   "id": "c73efc806a8e7f93"
  },
  {
   "cell_type": "code",
   "execution_count": null,
   "outputs": [],
   "source": [
    "# Count the occurrences of each category in the 'In Store' column\n",
    "order_counts = df['Type_of_order'].value_counts()\n",
    "\n",
    "# Create a bar chart\n",
    "plt.bar(order_counts.index, order_counts.values, color=['blue', 'green'])\n",
    "\n",
    "# Add labels and title\n",
    "plt.xlabel('Order Type')\n",
    "plt.ylabel('Count')\n",
    "plt.title('Count of Deliveries by Order Type')\n",
    "\n",
    "# Show the plot\n",
    "plt.show()"
   ],
   "metadata": {
    "collapsed": false
   },
   "id": "f558cd86eae385a4"
  },
  {
   "cell_type": "code",
   "execution_count": null,
   "outputs": [],
   "source": [
    "# Count the occurrences of each category in the 'Weatherconditions' column\n",
    "weather_counts = df['Weatherconditions'].value_counts()\n",
    "\n",
    "# Create a bar chart\n",
    "plt.bar(weather_counts.index, weather_counts.values, color=['blue', 'green'])\n",
    "\n",
    "# Add labels and title\n",
    "plt.xlabel('Weather Conditions')\n",
    "plt.ylabel('Count')\n",
    "plt.title('Count of Deliveries by Weather Condition')\n",
    "plt.xticks(rotation=90)\n",
    "\n",
    "# Show the plot\n",
    "plt.show()"
   ],
   "metadata": {
    "collapsed": false
   },
   "id": "6fb32747d391cae0"
  },
  {
   "cell_type": "code",
   "execution_count": null,
   "outputs": [],
   "source": [
    "print(weather_counts)"
   ],
   "metadata": {
    "collapsed": false
   },
   "id": "fcb37aa0fd724a48"
  },
  {
   "cell_type": "code",
   "execution_count": null,
   "outputs": [],
   "source": [
    "# Count the occurrences of each category in the 'Road_traffic_density' column\n",
    "traffic_counts = df['Road_traffic_density'].value_counts()\n",
    "\n",
    "# Create a bar chart\n",
    "plt.bar(traffic_counts.index, traffic_counts.values, color=['blue', 'green'])\n",
    "\n",
    "# Add labels and title\n",
    "plt.xlabel('Traffic Conditions')\n",
    "plt.ylabel('Count')\n",
    "plt.title('Count of Deliveries by Traffic Conditions')\n",
    "\n",
    "# Show the plot\n",
    "plt.show()"
   ],
   "metadata": {
    "collapsed": false
   },
   "id": "e9cc897758af0b97"
  },
  {
   "cell_type": "code",
   "execution_count": null,
   "outputs": [],
   "source": [
    "import os\n",
    "print(os.getcwd())"
   ],
   "metadata": {
    "collapsed": false
   },
   "id": "c3da628842bb8ab3"
  },
  {
   "cell_type": "code",
   "execution_count": null,
   "outputs": [],
   "source": [
    "delivery = df.copy()"
   ],
   "metadata": {
    "collapsed": false
   },
   "id": "24829f783a59114b"
  },
  {
   "cell_type": "code",
   "execution_count": null,
   "outputs": [],
   "source": [
    "fp = 'india_state_geo.json'\n",
    "map_df = gpd.read_file(fp) \n",
    "map_df_copy = gpd.read_file(fp)\n",
    "map_df.head()"
   ],
   "metadata": {
    "collapsed": false
   },
   "id": "6ce4de3ea720028c"
  },
  {
   "cell_type": "code",
   "execution_count": null,
   "outputs": [],
   "source": [
    "merged = map_df.set_index('geometry').join(delivery.set_index('State'))"
   ],
   "metadata": {
    "collapsed": false
   },
   "id": "459a7cb7b324a0f0"
  },
  {
   "cell_type": "code",
   "execution_count": null,
   "outputs": [],
   "source": [
    "map_df.plot()"
   ],
   "metadata": {
    "collapsed": false
   },
   "id": "5a0f6c2cb4e6921a"
  },
  {
   "cell_type": "code",
   "execution_count": null,
   "outputs": [],
   "source": [
    "# import plotly.express as px\n",
    "\n",
    "# fig= px.scatter_geo(delivery, lat=delivery['Delivery_location_latitude'], lon = delivery['Delivery_location_longitude'])\n",
    "# fig.update_geos(fitbounds='locations', visible=False)\n",
    "# fig2=px.scatter_geo(delivery, lat=delivery['Restaurant_latitude'], lon=delivery['Restaurant_longitude'])\n",
    "# fig.show()"
   ],
   "metadata": {
    "collapsed": false
   },
   "id": "6ece4afecbf61097"
  },
  {
   "cell_type": "code",
   "execution_count": null,
   "outputs": [],
   "source": [
    "indian_states=json.load(open('india_state_geo.json'))"
   ],
   "metadata": {
    "collapsed": false
   },
   "id": "631e2cbba9a9933a"
  },
  {
   "cell_type": "code",
   "execution_count": null,
   "outputs": [],
   "source": [
    "f, ax = plt.subplots(figsize=(18, 14))\n",
    "\n",
    "sns.lineplot(x=delivery['Delivery_person_Ratings'], y=delivery['Delivery_person_Age'] ,data=delivery, palette='magma')\n",
    "plt.show()"
   ],
   "metadata": {
    "collapsed": false
   },
   "id": "7e086dd81aa24488"
  },
  {
   "cell_type": "code",
   "execution_count": null,
   "outputs": [],
   "source": [
    "# Specify the columns of interest\n",
    "columns_of_interest = ['Restaurant_latitude', 'Restaurant_longitude']\n",
    "\n",
    "# Create an empty DataFrame to store rows with 0 values\n",
    "zero_values_df = pd.DataFrame()\n",
    "\n",
    "# Loop through columns and rows\n",
    "for column in columns_of_interest:\n",
    "    # Use boolean indexing to select rows where the value is 0\n",
    "    zero_rows = delivery[delivery[column] == 0]\n",
    "    \n",
    "    # Concatenate the selected rows to the new DataFrame\n",
    "    zero_values_df = pd.concat([zero_values_df, zero_rows], ignore_index=True)\n",
    "\n",
    "# Display the new DataFrame\n",
    "zero_values_df.head()"
   ],
   "metadata": {
    "collapsed": false
   },
   "id": "f4b376f5abcbd470"
  },
  {
   "cell_type": "code",
   "execution_count": null,
   "outputs": [],
   "source": [
    "#  Drop these rows from the main dataframe because they make no sense\n",
    "\n",
    "# Use boolean indexing to select rows where any of the specified columns have a value of 0\n",
    "rows_to_drop = delivery[(delivery[columns_of_interest] == 0).any(axis=1)]\n",
    "\n",
    "# Drop the selected rows from the original DataFrame\n",
    "delivery = delivery.drop(rows_to_drop.index)"
   ],
   "metadata": {
    "collapsed": false
   },
   "id": "c6249bbbc61433ad"
  },
  {
   "cell_type": "code",
   "execution_count": null,
   "outputs": [],
   "source": [
    "delivery['Delivery_person_Ratings'].isnull().sum()"
   ],
   "metadata": {
    "collapsed": false
   },
   "id": "7d687330a2213080"
  },
  {
   "cell_type": "code",
   "execution_count": null,
   "outputs": [],
   "source": [
    "\n",
    "#delivery_copy=delivery.copy(deep=True)\n",
    "#delivery_copy['Delivery_person_Ratings']= pd.to_numeric(delivery['Delivery_person_Ratings'])\n",
    "#bins=[0,1,2,3,4,5]\n",
    "#labels=['0-1','1-2','2-3','3-4','4-5']\n",
    "#delivery_copy['Delivery_person_Ratings']=pd.cut(delivery_copy['Delivery_person_Ratings'], bins=bins, labels=labels)"
   ],
   "metadata": {
    "collapsed": false
   },
   "id": "9633f7e874d9cfc1"
  },
  {
   "cell_type": "code",
   "execution_count": null,
   "outputs": [],
   "source": [
    "delivery['Delivery_person_Ratings'].dropna"
   ],
   "metadata": {
    "collapsed": false
   },
   "id": "465ce3b26be8465d"
  },
  {
   "cell_type": "code",
   "execution_count": null,
   "outputs": [],
   "source": [
    "# customize title\n",
    "delivery['Delivery_person_Ratings'] = delivery['Delivery_person_Ratings'].astype('float')\n",
    "\n",
    "def categorize_Ratings(Delivery_person_Ratings): \n",
    "    if Delivery_person_Ratings >0.1 and Delivery_person_Ratings <=1:\n",
    "        return \"Extremely Low\"\n",
    "    elif Delivery_person_Ratings>1 and Delivery_person_Ratings <=2.5:\n",
    "        return \"Low\"\n",
    "    elif Delivery_person_Ratings>2.5 and Delivery_person_Ratings <=4:\n",
    "        return \"Medium\"\n",
    "    else:\n",
    "        return \"High\"\n",
    "    \n",
    "delivery['rating_level'] = delivery['Delivery_person_Ratings'].apply(categorize_Ratings)\n",
    "delivery.head(10)"
   ],
   "metadata": {
    "collapsed": false
   },
   "id": "a85b49cc2060174a"
  },
  {
   "cell_type": "code",
   "execution_count": null,
   "outputs": [],
   "source": [
    "# Set up plot and styles\n",
    "f, ax = plt.subplots(figsize=(12, 8))\n",
    "plt.subplots_adjust(hspace=0.3, wspace=0.5)\n",
    "sns.set_style('white')\n",
    "\n",
    "rating_order = ['Extremely Low', 'Low', 'Medium', 'High']\n",
    "\n",
    "# plot of the different subjectivity levels\n",
    "sns.countplot(x=\"rating_level\", data=delivery, order=rating_order, palette=\"magma\")\n",
    "# customize title\n",
    "ax.set_title('Rating Levels', fontsize=12, weight='bold', style='italic', y=1)\n",
    "ax.set_xlabel('', weight='bold', style='italic')\n",
    "# customize y-axis label\n",
    "ax.set_ylabel('Number of Ratings', weight='bold', style='italic')\n",
    "# customize the y-axis label\n",
    "ax.set_facecolor('black')\n",
    "plt.show()"
   ],
   "metadata": {
    "collapsed": false
   },
   "id": "51fb6a6165c60a2c"
  },
  {
   "cell_type": "code",
   "execution_count": null,
   "outputs": [],
   "source": [
    "delivery['Delivery_person_Age'] = delivery['Delivery_person_Age'].astype('float')\n",
    "def categorize_Ratings(Delivery_person_Age): \n",
    "    if Delivery_person_Age >15 and Delivery_person_Age <=20:\n",
    "        return \"15-18\"\n",
    "    elif Delivery_person_Age>20 and Delivery_person_Age <=29:\n",
    "        return \"20-29\"\n",
    "    elif Delivery_person_Age>29 and Delivery_person_Age <=50:\n",
    "        return \"30-40\"\n",
    "    else:\n",
    "        return \"41 and up\"\n",
    "delivery['age_level'] = delivery['Delivery_person_Age'].apply(categorize_Ratings)\n",
    "delivery.head()"
   ],
   "metadata": {
    "collapsed": false
   },
   "id": "29bb55580c7b1de1"
  },
  {
   "cell_type": "code",
   "execution_count": null,
   "outputs": [],
   "source": [
    "# Set up plot and styles\n",
    "f, ax = plt.subplots(figsize=(12, 8))\n",
    "plt.subplots_adjust(hspace=0.3, wspace=0.5)\n",
    "sns.set_style('white')\n",
    "\n",
    "rating_order = ['Extremely Low', 'Low', 'Medium', 'High']\n",
    "\n",
    "# plot of the different subjectivity levels\n",
    "sns.countplot(x=\"rating_level\", data=delivery, order=rating_order, palette=\"magma\", hue='Road_traffic_density')\n",
    "# customize title\n",
    "ax.set_title('Rating Levels', fontsize=12, weight='bold', style='italic', y=1)\n",
    "ax.set_xlabel('', weight='bold', style='italic')\n",
    "# customize y-axis label\n",
    "ax.set_ylabel('Number of Ratings', weight='bold', style='italic')\n",
    "# customize the y-axis label\n",
    "ax.set_facecolor('black')\n",
    "plt.show()"
   ],
   "metadata": {
    "collapsed": false
   },
   "id": "3ad7821ffbf9b1c8"
  },
  {
   "cell_type": "code",
   "execution_count": null,
   "outputs": [],
   "source": [
    "# Set up plot and styles\n",
    "f, ax = plt.subplots(figsize=(12, 8))\n",
    "plt.subplots_adjust(hspace=0.3, wspace=0.5)\n",
    "sns.set_style('white')\n",
    "\n",
    "rating_order = ['Extremely Low', 'Low', 'Medium', 'High']\n",
    "\n",
    "# plot of the different subjectivity levels\n",
    "sns.countplot(x=\"rating_level\", data=delivery, order=rating_order, palette=\"magma\", hue='Type_of_vehicle')\n",
    "# customize title\n",
    "ax.set_title('Rating Levels', fontsize=12, weight='bold', style='italic', y=1)\n",
    "ax.set_xlabel('', weight='bold', style='italic')\n",
    "# customize y-axis label\n",
    "ax.set_ylabel('Number of Ratings', weight='bold', style='italic')\n",
    "# customize the y-axis label\n",
    "ax.set_facecolor('black')\n",
    "plt.show()"
   ],
   "metadata": {
    "collapsed": false
   },
   "id": "8ae9e99b9a3632fa"
  },
  {
   "cell_type": "code",
   "execution_count": null,
   "outputs": [],
   "source": [
    "# Set up plot and styles\n",
    "f, ax = plt.subplots(figsize=(12, 8))\n",
    "plt.subplots_adjust(hspace=0.3, wspace=0.5)\n",
    "sns.set_style('white')\n",
    "\n",
    "rating_order = ['Extremely Low', 'Low', 'Medium', 'High']\n",
    "\n",
    "# plot of the different subjectivity levels\n",
    "sns.countplot(x=\"rating_level\", data=delivery, order=rating_order, palette=\"magma\", hue='age_level')\n",
    "# customize title\n",
    "ax.set_title('Rating Levels', fontsize=12, weight='bold', style='italic', y=1)\n",
    "ax.set_xlabel('', weight='bold', style='italic')\n",
    "# customize y-axis label\n",
    "ax.set_ylabel('Number of Ratings', weight='bold', style='italic')\n",
    "# customize the y-axis label\n",
    "ax.set_facecolor('black')\n",
    "plt.show()"
   ],
   "metadata": {
    "collapsed": false
   },
   "id": "e4b8b71ec94f48c8"
  },
  {
   "cell_type": "code",
   "execution_count": null,
   "outputs": [],
   "source": [
    "delivery.describe()"
   ],
   "metadata": {
    "collapsed": false
   },
   "id": "a939f54091574604"
  },
  {
   "cell_type": "code",
   "execution_count": null,
   "outputs": [],
   "source": [
    "data = pd.read_csv('train.csv',na_values='NaN ')\n",
    "data.isnull().sum()type.values.tolist()\n",
    "time.values.tolist()\n",
    "number_of_del.values.tolist()\n",
    "ratings.values.tolist()\n",
    "age.values.tolist()\n",
    "weather.values.tolist()\n",
    "traffic.values.tolist()\n",
    "vehicle_cond.values.tolist()\n",
    "type_order.values.tolist() \n",
    "type_veh.values.tolist() "
   ],
   "metadata": {
    "collapsed": false
   },
   "id": "9816522004c8400e"
  },
  {
   "cell_type": "code",
   "execution_count": null,
   "outputs": [],
   "source": [
    "time =data['Time_taken']\n",
    "number_of_del = data['multiple_deliveries']\n",
    "type = data['City']\n",
    "ratings = data['Delivery_person_Ratings']\n",
    "age = data['Delivery_person_Age']\n",
    "weather = data['Weatherconditions']\n",
    "traffic = data['Road_traffic_density']\n",
    "vehicle_cond = data['Vehicle_condition']\n",
    "type_order = data['Type_of_order']\n",
    "type_veh = data['Type_of_vehicle']"
   ],
   "metadata": {
    "collapsed": false
   },
   "id": "bdee04a9287aa2bb"
  },
  {
   "cell_type": "code",
   "execution_count": null,
   "outputs": [],
   "source": [
    "metropolitian_time = []\n",
    "metropolitian_del = []\n",
    "metropolitian_rate = []\n",
    "for i in range(len(type)):\n",
    "    if type[i] == \"Metropolitian \":\n",
    "        metropolitian_time.append(time[i])\n",
    "        metropolitian_del.append(number_of_del[i])\n",
    "        metropolitian_rate.append(ratings[i])\n",
    "    else:\n",
    "         continue\n",
    "   "
   ],
   "metadata": {
    "collapsed": false
   },
   "id": "1463bb509a7d085b"
  },
  {
   "cell_type": "code",
   "execution_count": null,
   "outputs": [],
   "source": [
    "urban_time = []\n",
    "urban_del = []\n",
    "urban_rate = []\n",
    "\n",
    "for i in range(len(type)):\n",
    "    if type[i] == 'Urban ':\n",
    "        urban_time.append(time[i])\n",
    "        urban_del.append(number_of_del[i])\n",
    "        urban_rate.append(ratings[i])\n",
    "    else:\n",
    "        continue"
   ],
   "metadata": {
    "collapsed": false
   },
   "id": "66d6061dfd0a4d8c"
  },
  {
   "cell_type": "code",
   "execution_count": null,
   "outputs": [],
   "source": [
    "semi_urban_time = []\n",
    "semi_urban_del = []\n",
    "semi_urban_rate = []\n",
    "\n",
    "for i in range(len(type)):\n",
    "    if type[i] == 'Semi-Urban ':\n",
    "        semi_urban_time.append(time[i])\n",
    "        semi_urban_del.append(number_of_del[i])\n",
    "        semi_urban_rate.append(ratings[i])\n",
    "    else:\n",
    "        continue"
   ],
   "metadata": {
    "collapsed": false
   },
   "id": "eafd036effe59ec9"
  },
  {
   "cell_type": "code",
   "execution_count": null,
   "outputs": [],
   "source": [
    "df_metro = pd.DataFrame(metropolitian_time , columns = ['Time'])\n",
    "df_metro.insert( 1, \"Number of Deliveries\", metropolitian_del, True)\n",
    "df_metro.insert( 2, \"Ratings\", metropolitian_rate, True)\n",
    "df_metro\n"
   ],
   "metadata": {
    "collapsed": false
   },
   "id": "ae5f7f7b1390c1a9"
  },
  {
   "cell_type": "code",
   "execution_count": null,
   "outputs": [],
   "source": [
    "df_su = pd.DataFrame(semi_urban_time , columns = ['Time'])\n",
    "df_su.insert( 1, \"Number of Deliveries\", semi_urban_del, True)\n",
    "df_su.insert( 2, \"Ratings\", semi_urban_rate, True)\n",
    "df_su"
   ],
   "metadata": {
    "collapsed": false
   },
   "id": "f9cd83d3ed4aa1c5"
  },
  {
   "cell_type": "code",
   "execution_count": null,
   "outputs": [],
   "source": [
    "df_u = pd.DataFrame(urban_time , columns = ['Time'])\n",
    "df_u.insert( 1, \"Number of Deliveries\", urban_del, True)\n",
    "df_u.insert( 2, \"Ratings\", urban_rate, True)\n",
    "df_u['Number of Deliveries'].unique()"
   ],
   "metadata": {
    "collapsed": false
   },
   "id": "a18fdbdc56262fe5"
  },
  {
   "cell_type": "code",
   "execution_count": null,
   "outputs": [],
   "source": [
    "df_u['Ratingas'].unique()"
   ],
   "metadata": {
    "collapsed": false
   },
   "id": "b0df65d7187e2a45"
  },
  {
   "cell_type": "code",
   "execution_count": null,
   "outputs": [],
   "source": [
    "df_u = df_u.dropna()"
   ],
   "metadata": {
    "collapsed": false
   },
   "id": "d273c4edcacf7b6f"
  },
  {
   "cell_type": "code",
   "execution_count": null,
   "outputs": [],
   "source": [
    "df_su = df_su.dropna()"
   ],
   "metadata": {
    "collapsed": false
   },
   "id": "42fae6be65475900"
  },
  {
   "cell_type": "code",
   "execution_count": null,
   "outputs": [],
   "source": [
    "df_metro = df_metro.dropna()"
   ],
   "metadata": {
    "collapsed": false
   },
   "id": "5ede2e5c8d4a667"
  },
  {
   "cell_type": "code",
   "execution_count": null,
   "outputs": [],
   "source": [
    "\n",
    "p = sns.scatterplot(x=df_metro['Number of Deliveries'],y=df_metro['Ratings'],data=df_metro)\n",
    "p.set_title('Metropolitian: Multiple Deliveries vs Ratings')\n",
    "\n",
    "p.tick_params(labelsize=15)\n",
    "p.set_title('Metropolitian: Multiple Deliveries vs Ratings', fontsize = 20, pad = 20)\n",
    "p.set_xlabel(\"Number of Deliveries\",fontsize=17)\n",
    "p.set_ylabel('Ratings',fontsize=17)\n",
    "\n",
    "f = p.get_figure()\n",
    "f.savefig('metro del v rate.jpg', bbox_inches='tight')\n"
   ],
   "metadata": {
    "collapsed": false
   },
   "id": "4c45ae86460b8eb3"
  },
  {
   "cell_type": "code",
   "execution_count": null,
   "outputs": [],
   "source": [
    "k = sns.scatterplot(x=df_su['Number of Deliveries'],y=df_su['Ratings'],data=df_su)\n",
    "k.set_title('Semi-Urban: Multiple Deliveries vs Ratings')\n",
    "f = k.get_figure()\n",
    "\n",
    "k.tick_params(labelsize=15)\n",
    "k.set_title('Semi-Urban: Multiple Deliveries vs Ratings', fontsize = 20, pad = 20)\n",
    "k.set_xlabel(\"Number of Deliveries\",fontsize=17)\n",
    "k.set_ylabel('Ratings',fontsize=17)\n",
    "\n",
    "f.savefig('semi del v rate.jpg', bbox_inches='tight')"
   ],
   "metadata": {
    "collapsed": false
   },
   "id": "f58a185a34a7e369"
  },
  {
   "cell_type": "code",
   "execution_count": null,
   "outputs": [],
   "source": [
    "k = sns.scatterplot(x=df_u['Number of Deliveries'],y=df_u['Ratings'],data=df_u)\n",
    "k.set_title('Urban: Multiple Deliveries vs Ratings')\n",
    "f = k.get_figure()\n",
    "\n",
    "k.tick_params(labelsize=15)\n",
    "k.set_title('Urban: Multiple Deliveries vs Ratings', fontsize = 20, pad = 20)\n",
    "k.set_xlabel(\"Number of Deliveries\",fontsize=17)\n",
    "k.set_ylabel('Ratings',fontsize=17)\n",
    "\n",
    "f.savefig('urban del v rate.jpg', bbox_inches='tight')"
   ],
   "metadata": {
    "collapsed": false
   },
   "id": "a07032c2a57b99df"
  },
  {
   "cell_type": "code",
   "execution_count": null,
   "outputs": [],
   "source": [
    "data['Delivery_person_Ratings'].unique()"
   ],
   "metadata": {
    "collapsed": false
   },
   "id": "25d07bc611092c18"
  },
  {
   "cell_type": "code",
   "execution_count": null,
   "outputs": [],
   "source": [
    "#look at the ouliers and what may be causing the low ratings Not multiple delivery like i thought \n",
    "\n",
    "metro6_time = []\n",
    "metro6_nod = []\n",
    "metro6_rate = []\n",
    "metro6_age = []\n",
    "metro6_weather = []\n",
    "metro6_traffic = []\n",
    "metro6_vc = []\n",
    "metro6_to = []\n",
    "metro6_tv = []\n",
    "for i in range(len(type)):\n",
    "    if type[i] == 'Metropolitian ' and ratings[i] == 6:\n",
    "        metro6_time.append(time[i])\n",
    "        metro6_nod.append(number_of_del[i])\n",
    "        metro6_rate.append(ratings[i])\n",
    "        metro6_age.append(age[i])\n",
    "        metro6_weather.append(weather[i])\n",
    "        metro6_traffic.append(traffic[i])\n",
    "        metro6_vc.append(vehicle_cond[i])\n",
    "        metro6_to.append(type_order[i])\n",
    "        metro6_tv.append(type_veh[i])\n",
    "        print(i)\n",
    "    else:\n",
    "        continue"
   ],
   "metadata": {
    "collapsed": false
   },
   "id": "973d346aa7a94b2a"
  },
  {
   "cell_type": "code",
   "execution_count": null,
   "outputs": [],
   "source": [
    "a = np.array(metro6_time)\n",
    "average = np.mean(metro6_time)\n",
    "print(average)"
   ],
   "metadata": {
    "collapsed": false
   },
   "id": "351d6da96a10accd"
  },
  {
   "cell_type": "code",
   "execution_count": null,
   "outputs": [],
   "source": [
    "df_metro6 = pd.DataFrame(metro6_time , columns = ['Time'])\n",
    "df_metro6.insert( 1, \"Number of Deliveries\", metro6_nod, True)\n",
    "df_metro6.insert( 2, \"Ratings\", metro6_rate, True)\n",
    "df_metro6.insert( 3, \"Age\", metro6_age, True)\n",
    "df_metro6.insert( 4, \"Weather\", metro6_weather, True)\n",
    "df_metro6.insert( 5, \"Traffic\", metro6_traffic, True)\n",
    "df_metro6.insert( 6, \"Vehicle Condition\", metro6_vc, True)\n",
    "df_metro6.insert( 7, \"Type of Order\", metro6_to, True)\n",
    "df_metro6.insert( 8, \"Type of Vehicle\", metro6_tv, True)\n",
    "df_metro6"
   ],
   "metadata": {
    "collapsed": false
   },
   "id": "850de86290436c42"
  },
  {
   "cell_type": "code",
   "execution_count": null,
   "outputs": [],
   "source": [
    "metro1_time = []\n",
    "metro1_nod = []\n",
    "metro1_rate = []\n",
    "metro1_age = []\n",
    "metro1_weather = []\n",
    "metro1_traffic = []\n",
    "metro1_vc = []\n",
    "metro1_to = []\n",
    "metro1_tv = []\n",
    "for i in range(len(type)):\n",
    "    if type[i] == 'Metropolitian ' and ratings[i] == 1:\n",
    "        metro1_time.append(time[i])\n",
    "        metro1_nod.append(number_of_del[i])\n",
    "        metro1_rate.append(ratings[i])\n",
    "        metro1_age.append(age[i])\n",
    "        metro1_weather.append(weather[i])\n",
    "        metro1_traffic.append(traffic[i])\n",
    "        metro1_vc.append(vehicle_cond[i])\n",
    "        metro1_to.append(type_order[i])\n",
    "        metro1_tv.append(type_veh[i])\n",
    "        print(i)\n",
    "    else:\n",
    "        continue"
   ],
   "metadata": {
    "collapsed": false
   },
   "id": "30227baa36d29e65"
  },
  {
   "cell_type": "code",
   "execution_count": null,
   "outputs": [],
   "source": [
    "a = np.array(metro1_time)\n",
    "average = np.mean(metro1_time)\n",
    "print(average)"
   ],
   "metadata": {
    "collapsed": false
   },
   "id": "9e6621abf0668465"
  },
  {
   "cell_type": "code",
   "execution_count": null,
   "outputs": [],
   "source": [
    "df_metro1 = pd.DataFrame(metro1_time , columns = ['Time'])\n",
    "df_metro1.insert( 1, \"Number of Deliveries\", metro1_nod, True)\n",
    "df_metro1.insert( 2, \"Ratings\", metro1_rate, True)\n",
    "df_metro1.insert( 3, \"Age\", metro1_age, True)\n",
    "df_metro1.insert( 4, \"Weather\", metro1_weather, True)\n",
    "df_metro1.insert( 5, \"Traffic\", metro1_traffic, True)\n",
    "df_metro1.insert( 6, \"Vehicle Condition\", metro1_vc, True)\n",
    "df_metro1.insert( 7, \"Type of Order\", metro1_to, True)\n",
    "df_metro1.insert( 8, \"Type of Vehicle\", metro1_tv, True)\n",
    "df_metro1"
   ],
   "metadata": {
    "collapsed": false
   },
   "id": "95cf5ac7ade6ad56"
  },
  {
   "cell_type": "code",
   "execution_count": null,
   "outputs": [],
   "source": [
    "p = sns.countplot(data = df_metro6,x = \"Type of Order\")\n",
    "\n",
    "p.tick_params(labelsize=15)\n",
    "p.set_title('Metropolitian Rating 6: Order Type', fontsize = 20, pad = 20)\n",
    "p.set_xlabel(\"Type of Order\",fontsize=17)\n",
    "p.set_ylabel('Count',fontsize=17)\n",
    "\n",
    "f = p.get_figure()\n",
    "f.savefig('metro6 ot.jpg', bbox_inches='tight')\n",
    "\n"
   ],
   "metadata": {
    "collapsed": false
   },
   "id": "552f5958b4a375c7"
  },
  {
   "cell_type": "code",
   "execution_count": null,
   "outputs": [],
   "source": [
    "p = sns.countplot(data = df_metro1,x = \"Type of Order\")\n",
    "\n",
    "p.tick_params(labelsize=15)\n",
    "p.set_title('Metropolitian Rating 1: Order Type', fontsize = 20, pad = 20)\n",
    "p.set_xlabel(\"Type of Order\",fontsize=17)\n",
    "p.set_ylabel('Count',fontsize=17)\n",
    "\n",
    "f = p.get_figure()\n",
    "f.savefig('metro1 ot.jpg', bbox_inches='tight')"
   ],
   "metadata": {
    "collapsed": false
   },
   "id": "74afc3c9c3a22c11"
  },
  {
   "cell_type": "code",
   "execution_count": null,
   "outputs": [],
   "source": [
    "p = sns.countplot(data = df_metro6,x = \"Type of Vehicle\")\n",
    "\n",
    "p.tick_params(labelsize=15)\n",
    "p.set_title('Metropolitian Rating 6: Vehicle Type', fontsize = 20, pad = 20)\n",
    "p.set_xlabel(\"Type of Vehicle\",fontsize=17)\n",
    "p.set_xticklabels(p.get_xticklabels(), rotation = 15)\n",
    "p.set_ylabel('Count',fontsize=17)\n",
    "\n",
    "f = p.get_figure()\n",
    "f.savefig('metro6 vt.jpg', bbox_inches='tight')"
   ],
   "metadata": {
    "collapsed": false
   },
   "id": "426b8fc20bf97d97"
  },
  {
   "cell_type": "code",
   "execution_count": null,
   "outputs": [],
   "source": [
    "p = sns.countplot(data = df_metro1,x = \"Type of Vehicle\")\n",
    "\n",
    "p.tick_params(labelsize=15)\n",
    "p.set_title('Metropolitian Rating 1: Vehicle Type', fontsize = 20, pad = 20)\n",
    "p.set_xlabel(\"Type of Vehicle\",fontsize=17)\n",
    "p.set_xticklabels(p.get_xticklabels(), rotation = 15)\n",
    "p.set_ylabel('Count',fontsize=17)\n",
    "\n",
    "f = p.get_figure()\n",
    "f.savefig('metro1 vt.jpg', bbox_inches='tight')"
   ],
   "metadata": {
    "collapsed": false
   },
   "id": "63dec0b400bc1503"
  },
  {
   "cell_type": "code",
   "execution_count": null,
   "outputs": [],
   "source": [
    "u6_time = []\n",
    "u6_nod = []\n",
    "u6_rate = []\n",
    "u6_age = []\n",
    "u6_weather = []\n",
    "u6_traffic = []\n",
    "u6_vc = []\n",
    "u6_to = []\n",
    "u6_tv = []\n",
    "for i in range(len(type)):\n",
    "    if type[i] == 'Metropolitian ' and ratings[i] == 6:\n",
    "        u6_time.append(time[i])\n",
    "        u6_nod.append(number_of_del[i])\n",
    "        u6_rate.append(ratings[i])\n",
    "        u6_age.append(age[i])\n",
    "        u6_weather.append(weather[i])\n",
    "        u6_traffic.append(traffic[i])\n",
    "        u6_vc.append(vehicle_cond[i])\n",
    "        u6_to.append(type_order[i])\n",
    "        u6_tv.append(type_veh[i])\n",
    "        print(i)\n",
    "    else:\n",
    "        continue"
   ],
   "metadata": {
    "collapsed": false
   },
   "id": "29914a3f26f6b62e"
  },
  {
   "cell_type": "code",
   "execution_count": null,
   "outputs": [],
   "source": [
    "a = np.array(u6_time)\n",
    "average = np.mean(u6_time)\n",
    "print(average)"
   ],
   "metadata": {
    "collapsed": false
   },
   "id": "233a9e616bc55c7f"
  },
  {
   "cell_type": "code",
   "execution_count": null,
   "outputs": [],
   "source": [
    "df_u6 = pd.DataFrame(u6_time , columns = ['Time'])\n",
    "df_u6.insert( 1, \"Number of Deliveries\", u6_nod, True)\n",
    "df_u6.insert( 2, \"Ratings\", u6_rate, True)\n",
    "df_u6.insert( 3, \"Age\", u6_age, True)\n",
    "df_u6.insert( 4, \"Weather\", u6_weather, True)\n",
    "df_u6.insert( 5, \"Traffic\", u6_traffic, True)\n",
    "df_u6.insert( 6, \"Vehicle Condition\", u6_vc, True)\n",
    "df_u6.insert( 7, \"Type of Order\", u6_to, True)\n",
    "df_u6.insert( 8, \"Type of Vehicle\", u6_tv, True)\n",
    "df_u6"
   ],
   "metadata": {
    "collapsed": false
   },
   "id": "6500a7fc42399c36"
  },
  {
   "cell_type": "code",
   "execution_count": null,
   "outputs": [],
   "source": [
    "u1_time = []\n",
    "u1_nod = []\n",
    "u1_rate = []\n",
    "u1_age = []\n",
    "u1_weather = []\n",
    "u1_traffic = []\n",
    "u1_vc = []\n",
    "u1_to = []\n",
    "u1_tv = []\n",
    "for i in range(len(type)):\n",
    "    if type[i] == 'Metropolitian ' and ratings[i] == 1:\n",
    "        u1_time.append(time[i])\n",
    "        u1_nod.append(number_of_del[i])\n",
    "        u1_rate.append(ratings[i])\n",
    "        u1_age.append(age[i])\n",
    "        u1_weather.append(weather[i])\n",
    "        u1_traffic.append(traffic[i])\n",
    "        u1_vc.append(vehicle_cond[i])\n",
    "        u1_to.append(type_order[i])\n",
    "        u1_tv.append(type_veh[i])\n",
    "        print(i)\n",
    "    else:\n",
    "        continue"
   ],
   "metadata": {
    "collapsed": false
   },
   "id": "1fcc89d37e79b091"
  },
  {
   "cell_type": "code",
   "execution_count": null,
   "outputs": [],
   "source": [
    "a = np.array(u6_tim)\n",
    "average = np.mean(u6_time)\n",
    "print(average)"
   ],
   "metadata": {
    "collapsed": false
   },
   "id": "4885b95bc4023dc1"
  },
  {
   "cell_type": "code",
   "execution_count": null,
   "outputs": [],
   "source": [
    "df_u1 = pd.DataFrame(u1_time , columns = ['Time'])\n",
    "df_u1.insert( 1, \"Number of Deliveries\", u1_nod, True)\n",
    "df_u1.insert( 2, \"Ratings\", u1_rate, True)\n",
    "df_u1.insert( 3, \"Age\", u1_age, True)\n",
    "df_u1.insert( 4, \"Weather\", u1_weather, True)\n",
    "df_u1.insert( 5, \"Traffic\", u1_traffic, True)\n",
    "df_u1.insert( 6, \"Vehicle Condition\", u1_vc, True)\n",
    "df_u1.insert( 7, \"Type of Order\", u1_to, True)\n",
    "df_u1.insert( 8, \"Type of Vehicle\", u1_tv, True)\n",
    "df_u1"
   ],
   "metadata": {
    "collapsed": false
   },
   "id": "76fff94b1ba3789f"
  },
  {
   "cell_type": "code",
   "execution_count": null,
   "outputs": [],
   "source": [
    "p = sns.countplot(data = df_u6,x = \"Type of Order\")\n",
    "\n",
    "p.tick_params(labelsize=15)\n",
    "p.set_title('Urban Rating 6: Order Type', fontsize = 20, pad = 20)\n",
    "p.set_xlabel(\"Type of Order\",fontsize=17)\n",
    "p.set_ylabel('Count',fontsize=17)\n",
    "\n",
    "f = p.get_figure()\n",
    "f.savefig('u6 ot.jpg', bbox_inches='tight')"
   ],
   "metadata": {
    "collapsed": false
   },
   "id": "ccfa0ed0a67409f6"
  },
  {
   "cell_type": "code",
   "execution_count": null,
   "outputs": [],
   "source": [
    "p = sns.countplot(data = df_u1,x = \"Type of Order\")\n",
    "\n",
    "p.tick_params(labelsize=15)\n",
    "p.set_title('Urban Rating 1: Order Type', fontsize = 20, pad = 20)\n",
    "p.set_xlabel(\"Type of Order\",fontsize=17)\n",
    "p.set_ylabel('Count',fontsize=17)\n",
    "\n",
    "f = p.get_figure()\n",
    "f.savefig('u1 ot.jpg', bbox_inches='tight')"
   ],
   "metadata": {
    "collapsed": false
   },
   "id": "280dc48df1ac0831"
  },
  {
   "cell_type": "code",
   "execution_count": null,
   "outputs": [],
   "source": [
    "p = sns.countplot(data = df_u6,x = \"Type of Vehicle\")\n",
    "\n",
    "p.tick_params(labelsize=15)\n",
    "p.set_title('Urban Rating 6: Vehicle Type', fontsize = 20, pad = 20)\n",
    "p.set_xlabel(\"Type of Vehicle\",fontsize=17)\n",
    "p.set_xticklabels(p.get_xticklabels(), rotation = 15)\n",
    "p.set_ylabel('Count',fontsize=17)\n",
    "\n",
    "f = p.get_figure()\n",
    "f.savefig('u6 vt.jpg', bbox_inches='tight')"
   ],
   "metadata": {
    "collapsed": false
   },
   "id": "c9a73fd2ab9e4c9b"
  },
  {
   "cell_type": "code",
   "execution_count": null,
   "outputs": [],
   "source": [
    "p = sns.countplot(data = df_u1,x = \"Type of Vehicle\")\n",
    "\n",
    "p.tick_params(labelsize=15)\n",
    "p.set_title('Urban Rating 1: Vehicle Type', fontsize = 20, pad = 20)\n",
    "p.set_xlabel(\"Type of Vehicle\",fontsize=17)\n",
    "p.set_xticklabels(p.get_xticklabels(), rotation = 15)\n",
    "p.set_ylabel('Count',fontsize=17)\n",
    "\n",
    "f = p.get_figure()\n",
    "f.savefig('u1 vt.jpg', bbox_inches='tight')"
   ],
   "metadata": {
    "collapsed": false
   },
   "id": "50e998492c2af522"
  },
  {
   "cell_type": "code",
   "execution_count": null,
   "outputs": [],
   "source": [
    "p = sns.countplot(data = df_metro6,x = \"Age\")\n",
    "\n",
    "p.tick_params(labelsize=15)\n",
    "p.set_title('Metro Rating 6: Age', fontsize = 20, pad = 20)\n",
    "p.set_xlabel(\"Age\",fontsize=17)\n",
    "p.set_ylabel('Count',fontsize=17)\n",
    "\n",
    "f = p.get_figure()\n",
    "f.savefig('metro6 age.jpg', bbox_inches='tight')"
   ],
   "metadata": {
    "collapsed": false
   },
   "id": "51ff9a224a879dfb"
  },
  {
   "cell_type": "code",
   "execution_count": null,
   "outputs": [],
   "source": [
    "p = sns.countplot(data = df_metro1,x = \"Age\")\n",
    "\n",
    "p.tick_params(labelsize=15)\n",
    "p.set_title('Metro Rating 1: Age', fontsize = 20, pad = 20)\n",
    "p.set_xlabel(\"Age\",fontsize=17)\n",
    "p.set_ylabel('Count',fontsize=17)\n",
    "\n",
    "f = p.get_figure()\n",
    "f.savefig('metro1 age.jpg', bbox_inches='tight')"
   ],
   "metadata": {
    "collapsed": false
   },
   "id": "4977ac46d4fb0d05"
  },
  {
   "cell_type": "code",
   "execution_count": null,
   "outputs": [],
   "source": [
    "p = sns.countplot(data = df_u6,x = \"Age\")\n",
    "\n",
    "p.tick_params(labelsize=15)\n",
    "p.set_title('Urban Rating 6: Age', fontsize = 20, pad = 20)\n",
    "p.set_xlabel(\"Age\",fontsize=17)\n",
    "p.set_ylabel('Count',fontsize=17)\n",
    "\n",
    "f = p.get_figure()\n",
    "f.savefig('u6 age.jpg', bbox_inches='tight')"
   ],
   "metadata": {
    "collapsed": false
   },
   "id": "b2918e97031dfcfd"
  },
  {
   "cell_type": "code",
   "execution_count": null,
   "outputs": [],
   "source": [
    "p = sns.countplot(data = df_u1,x = \"Age\")\n",
    "\n",
    "p.tick_params(labelsize=15)\n",
    "p.set_title('Urban Rating 1: Age', fontsize = 20, pad = 20)\n",
    "p.set_xlabel(\"Age\",fontsize=17)\n",
    "p.set_ylabel('Count',fontsize=17)\n",
    "\n",
    "f = p.get_figure()\n",
    "f.savefig('u1 age.jpg', bbox_inches='tight')"
   ],
   "metadata": {
    "collapsed": false
   },
   "id": "24803845810674e7"
  },
  {
   "cell_type": "code",
   "execution_count": null,
   "outputs": [],
   "source": [],
   "metadata": {
    "collapsed": false
   },
   "id": "deb695d64ffdb9bc"
  },
  {
   "cell_type": "code",
   "execution_count": null,
   "outputs": [],
   "source": [],
   "metadata": {
    "collapsed": false
   },
   "id": "6102589724017e59"
  }
 ],
 "metadata": {
  "kernelspec": {
   "display_name": "Python 3",
   "language": "python",
   "name": "python3"
  },
  "language_info": {
   "codemirror_mode": {
    "name": "ipython",
    "version": 2
   },
   "file_extension": ".py",
   "mimetype": "text/x-python",
   "name": "python",
   "nbconvert_exporter": "python",
   "pygments_lexer": "ipython2",
   "version": "2.7.6"
  }
 },
 "nbformat": 4,
 "nbformat_minor": 5
}
